{
 "cells": [
  {
   "cell_type": "code",
   "execution_count": null,
   "id": "715e87e9-b319-4de3-b529-a3ad811627cf",
   "metadata": {},
   "outputs": [],
   "source": [
    "def potential_breakouts(ticker):\n",
    "    '''A function that returns date and prices for potential breakouts of a stock using historical daily prices'''\n",
    "    \n",
    "    # Import libraries\n",
    "    from yahoo_fin.stock_info import get_data\n",
    "    import pandas as pd\n",
    "    import numpy as np\n",
    "    \n",
    "    # Get the historical weekly prices from the specified start date and end date (both YYYY-mm-dd)\n",
    "    hist = get_data(ticker, index_as_date=False)\n",
    "    \n",
    "    # Drop the adjusted close column\n",
    "    prices = hist.drop(['adjclose'], axis=1)\n",
    "    \n",
    "    # Get the length of candle's body (from open to close)\n",
    "    prices['O-to-C'] = prices['close'] - prices['open']\n",
    "    \n",
    "    # Get the rolling mean of the candles' bodies for recent 20 candles\n",
    "    prices['OC-20D-Mean'] = prices['O-to-C'].rolling(20).mean()\n",
    "    \n",
    "    # Get the % change of the current OC relative from the rolling mean\n",
    "    prices['OC-%-from-20D-Mean'] = 100*(prices['O-to-C'] - prices['OC-20D-Mean'])/prices['OC-20D-Mean']\n",
    "    \n",
    "    # Get the maximum OC compared to the recent 10 candles\n",
    "    prices['MaxOC_Prev10'] = prices['O-to-C'].rolling(10).max()\n",
    "    \n",
    "    # Get the rolling mean of volume for the recent 20 candles\n",
    "    prices['Volume-20D-Mean'] = prices['volume'].rolling(20).mean()\n",
    "    \n",
    "    # Get the % change of the current volume relative from the rolling mean\n",
    "    prices['Volume-%-from-20D-Mean'] = 100*(prices['volume'] - prices['Volume-20D-Mean'])/prices['Volume-20D-Mean']\n",
    "    \n",
    "    # Drop the null values for the first 19 rows, where no mean can be computed yet\n",
    "    prices = prices.dropna()\n",
    "    \n",
    "    # Rearrange columns\n",
    "    prices = prices[['ticker', 'date', 'open', 'high', 'low', 'close', \n",
    "                     'O-to-C', 'OC-20D-Mean', 'volume', 'Volume-20D-Mean', \n",
    "                     'MaxOC_Prev10', 'OC-%-from-20D-Mean', 'Volume-%-from-20D-Mean', \n",
    "                ]]\n",
    "    \n",
    "    # Select the subset of dataframe where breakout conditions apply\n",
    "    # Conditions: 1. green candle, 2. candle's body is longest in 10 days, \n",
    "    # 3. breakout volume is 50% higher than the rolling 20-day average, and\n",
    "    # 4. breakout candle has body that is 100% higher than the rolling 20-day average\n",
    "    \n",
    "    condition = (prices['O-to-C'] >= 0.0) & (prices['O-to-C'] == prices['MaxOC_Prev10']) & (prices['OC-%-from-20D-Mean'] >= 100.0) & (prices['Volume-%-from-20D-Mean'] >= 50.0) \n",
    "\n",
    "    breakouts = prices[condition]\n",
    "\n",
    "    return breakouts"
   ]
  }
 ],
 "metadata": {
  "kernelspec": {
   "display_name": "Python 3 (ipykernel)",
   "language": "python",
   "name": "python3"
  },
  "language_info": {
   "codemirror_mode": {
    "name": "ipython",
    "version": 3
   },
   "file_extension": ".py",
   "mimetype": "text/x-python",
   "name": "python",
   "nbconvert_exporter": "python",
   "pygments_lexer": "ipython3",
   "version": "3.11.4"
  }
 },
 "nbformat": 4,
 "nbformat_minor": 5
}
